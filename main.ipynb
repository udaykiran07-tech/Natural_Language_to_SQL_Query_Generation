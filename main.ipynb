{
 "cells": [
  {
   "cell_type": "code",
   "execution_count": 1,
   "id": "8d4544b0",
   "metadata": {},
   "outputs": [
    {
     "name": "stderr",
     "output_type": "stream",
     "text": [
      "USER_AGENT environment variable not set, consider setting it to identify your requests.\n"
     ]
    }
   ],
   "source": [
    "from table_agent import TableAgent"
   ]
  },
  {
   "cell_type": "code",
   "execution_count": 2,
   "id": "779b8b16",
   "metadata": {},
   "outputs": [
    {
     "name": "stdout",
     "output_type": "stream",
     "text": [
      "Query: Get the names and bank account numbers of customers under the age of 18\n",
      "Tables: KNA1, KNBK\n",
      "\n",
      "Query: Retrieve bank account numbers for payment reconciliation\n",
      "Tables: KNBK\n",
      "\n",
      "Query: Get the names of customers who pay more than $1mn tax from new york\n",
      "Tables: KNA1, KNVI\n",
      "\n",
      "Query: Get transportation zones with more than $1bn in shipping\n",
      "Tables: KNVS\n",
      "\n"
     ]
    }
   ],
   "source": [
    "Module = \"AR\"\n",
    "router = TableAgent(Module)\n",
    "\n",
    "queries = [\n",
    "    \"Get the names and bank account numbers of customers under the age of 18\",\n",
    "    \"Retrieve bank account numbers for payment reconciliation\",\n",
    "    \"Get the names of customers who pay more than $1mn tax from new york\", \n",
    "    \"Get transportation zones with more than $1bn in shipping\"\n",
    "]\n",
    "\n",
    "\n",
    "for q in queries:\n",
    "    print(f\"Query: {q}\\nTables: {router.route(q)}\\n\")"
   ]
  }
 ],
 "metadata": {
  "kernelspec": {
   "display_name": "myenv",
   "language": "python",
   "name": "python3"
  },
  "language_info": {
   "codemirror_mode": {
    "name": "ipython",
    "version": 3
   },
   "file_extension": ".py",
   "mimetype": "text/x-python",
   "name": "python",
   "nbconvert_exporter": "python",
   "pygments_lexer": "ipython3",
   "version": "3.11.7"
  }
 },
 "nbformat": 4,
 "nbformat_minor": 5
}
